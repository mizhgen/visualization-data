{
  "nbformat": 4,
  "nbformat_minor": 0,
  "metadata": {
    "colab": {
      "provenance": []
    },
    "kernelspec": {
      "name": "python3",
      "display_name": "Python 3"
    },
    "language_info": {
      "name": "python"
    }
  },
  "cells": [
    {
      "cell_type": "code",
      "execution_count": 32,
      "metadata": {
        "colab": {
          "base_uri": "https://localhost:8080/"
        },
        "id": "2DuXxkPdb6dv",
        "outputId": "863a9a43-bf8e-4737-96c8-45b620a02b81"
      },
      "outputs": [
        {
          "output_type": "stream",
          "name": "stdout",
          "text": [
            "Drive already mounted at /content/drive; to attempt to forcibly remount, call drive.mount(\"/content/drive\", force_remount=True).\n"
          ]
        }
      ],
      "source": [
        "from google.colab import drive\n",
        "drive.mount('/content/drive')\n"
      ]
    },
    {
      "cell_type": "code",
      "source": [
        "import pandas as pd\n",
        "import numpy as np\n",
        "import matplotlib.pyplot as plt\n",
        "from matplotlib.pyplot import figure"
      ],
      "metadata": {
        "id": "YoHGBrAPb9eR"
      },
      "execution_count": 33,
      "outputs": []
    },
    {
      "cell_type": "code",
      "source": [
        "sport_cars = pd.read_csv(\"/content/drive/MyDrive/sport_cars_characteristics.csv\")"
      ],
      "metadata": {
        "id": "cFhXaZelb-DZ"
      },
      "execution_count": 34,
      "outputs": []
    },
    {
      "cell_type": "markdown",
      "source": [
        "Датасет взят отсюда: https://www.kaggle.com/datasets/joanpau/cars-df?resource=download"
      ],
      "metadata": {
        "id": "OBmNNm7qdD2k"
      }
    },
    {
      "cell_type": "code",
      "source": [
        "sport_cars"
      ],
      "metadata": {
        "colab": {
          "base_uri": "https://localhost:8080/",
          "height": 840
        },
        "id": "-wJBGj1Scy-B",
        "outputId": "c0e9a3b8-231f-4151-941c-96fda3526305"
      },
      "execution_count": 35,
      "outputs": [
        {
          "output_type": "execute_result",
          "data": {
            "text/plain": [
              "                                name  sports_car    suv  wagon  minivan  \\\n",
              "0                 Chevrolet Aveo 4dr       False  False  False    False   \n",
              "1        Chevrolet Aveo LS 4dr hatch       False  False  False    False   \n",
              "2             Chevrolet Cavalier 2dr       False  False  False    False   \n",
              "3             Chevrolet Cavalier 4dr       False  False  False    False   \n",
              "4          Chevrolet Cavalier LS 2dr       False  False  False    False   \n",
              "..                               ...         ...    ...    ...      ...   \n",
              "423         Nissan Titan King Cab XE       False  False  False    False   \n",
              "424                      Subaru Baja       False  False  False    False   \n",
              "425                    Toyota Tacoma       False  False  False    False   \n",
              "426     Toyota Tundra Regular Cab V6       False  False  False    False   \n",
              "427  Toyota Tundra Access Cab V6 SR5       False  False  False    False   \n",
              "\n",
              "     pickup  all_wheel  rear_wheel   msrp  dealer_cost  eng_size  ncyl  \\\n",
              "0     False      False       False  11690        10965       1.6     4   \n",
              "1     False      False       False  12585        11802       1.6     4   \n",
              "2     False      False       False  14610        13697       2.2     4   \n",
              "3     False      False       False  14810        13884       2.2     4   \n",
              "4     False      False       False  16385        15357       2.2     4   \n",
              "..      ...        ...         ...    ...          ...       ...   ...   \n",
              "423    True       True       False  26650        24926       5.6     8   \n",
              "424    True       True       False  24520        22304       2.5     4   \n",
              "425    True      False        True  12800        11879       2.4     4   \n",
              "426    True      False        True  16495        14978       3.4     6   \n",
              "427    True       True       False  25935        23520       3.4     6   \n",
              "\n",
              "     horsepwr  city_mpg  hwy_mpg  weight  wheel_base  length  width  \n",
              "0         103      28.0     34.0  2370.0        98.0   167.0   66.0  \n",
              "1         103      28.0     34.0  2348.0        98.0   153.0   66.0  \n",
              "2         140      26.0     37.0  2617.0       104.0   183.0   69.0  \n",
              "3         140      26.0     37.0  2676.0       104.0   183.0   68.0  \n",
              "4         140      26.0     37.0  2617.0       104.0   183.0   69.0  \n",
              "..        ...       ...      ...     ...         ...     ...    ...  \n",
              "423       305      14.0     18.0  5287.0       140.0     NaN    NaN  \n",
              "424       165      21.0     28.0  3485.0       104.0     NaN    NaN  \n",
              "425       142      22.0     27.0  2750.0       103.0     NaN    NaN  \n",
              "426       190      16.0     20.0  3925.0       128.0     NaN    NaN  \n",
              "427       190      14.0     17.0  4435.0       128.0     NaN    NaN  \n",
              "\n",
              "[428 rows x 19 columns]"
            ],
            "text/html": [
              "\n",
              "  <div id=\"df-b883ac1c-ffdf-49e8-8473-15e25d47f4be\">\n",
              "    <div class=\"colab-df-container\">\n",
              "      <div>\n",
              "<style scoped>\n",
              "    .dataframe tbody tr th:only-of-type {\n",
              "        vertical-align: middle;\n",
              "    }\n",
              "\n",
              "    .dataframe tbody tr th {\n",
              "        vertical-align: top;\n",
              "    }\n",
              "\n",
              "    .dataframe thead th {\n",
              "        text-align: right;\n",
              "    }\n",
              "</style>\n",
              "<table border=\"1\" class=\"dataframe\">\n",
              "  <thead>\n",
              "    <tr style=\"text-align: right;\">\n",
              "      <th></th>\n",
              "      <th>name</th>\n",
              "      <th>sports_car</th>\n",
              "      <th>suv</th>\n",
              "      <th>wagon</th>\n",
              "      <th>minivan</th>\n",
              "      <th>pickup</th>\n",
              "      <th>all_wheel</th>\n",
              "      <th>rear_wheel</th>\n",
              "      <th>msrp</th>\n",
              "      <th>dealer_cost</th>\n",
              "      <th>eng_size</th>\n",
              "      <th>ncyl</th>\n",
              "      <th>horsepwr</th>\n",
              "      <th>city_mpg</th>\n",
              "      <th>hwy_mpg</th>\n",
              "      <th>weight</th>\n",
              "      <th>wheel_base</th>\n",
              "      <th>length</th>\n",
              "      <th>width</th>\n",
              "    </tr>\n",
              "  </thead>\n",
              "  <tbody>\n",
              "    <tr>\n",
              "      <th>0</th>\n",
              "      <td>Chevrolet Aveo 4dr</td>\n",
              "      <td>False</td>\n",
              "      <td>False</td>\n",
              "      <td>False</td>\n",
              "      <td>False</td>\n",
              "      <td>False</td>\n",
              "      <td>False</td>\n",
              "      <td>False</td>\n",
              "      <td>11690</td>\n",
              "      <td>10965</td>\n",
              "      <td>1.6</td>\n",
              "      <td>4</td>\n",
              "      <td>103</td>\n",
              "      <td>28.0</td>\n",
              "      <td>34.0</td>\n",
              "      <td>2370.0</td>\n",
              "      <td>98.0</td>\n",
              "      <td>167.0</td>\n",
              "      <td>66.0</td>\n",
              "    </tr>\n",
              "    <tr>\n",
              "      <th>1</th>\n",
              "      <td>Chevrolet Aveo LS 4dr hatch</td>\n",
              "      <td>False</td>\n",
              "      <td>False</td>\n",
              "      <td>False</td>\n",
              "      <td>False</td>\n",
              "      <td>False</td>\n",
              "      <td>False</td>\n",
              "      <td>False</td>\n",
              "      <td>12585</td>\n",
              "      <td>11802</td>\n",
              "      <td>1.6</td>\n",
              "      <td>4</td>\n",
              "      <td>103</td>\n",
              "      <td>28.0</td>\n",
              "      <td>34.0</td>\n",
              "      <td>2348.0</td>\n",
              "      <td>98.0</td>\n",
              "      <td>153.0</td>\n",
              "      <td>66.0</td>\n",
              "    </tr>\n",
              "    <tr>\n",
              "      <th>2</th>\n",
              "      <td>Chevrolet Cavalier 2dr</td>\n",
              "      <td>False</td>\n",
              "      <td>False</td>\n",
              "      <td>False</td>\n",
              "      <td>False</td>\n",
              "      <td>False</td>\n",
              "      <td>False</td>\n",
              "      <td>False</td>\n",
              "      <td>14610</td>\n",
              "      <td>13697</td>\n",
              "      <td>2.2</td>\n",
              "      <td>4</td>\n",
              "      <td>140</td>\n",
              "      <td>26.0</td>\n",
              "      <td>37.0</td>\n",
              "      <td>2617.0</td>\n",
              "      <td>104.0</td>\n",
              "      <td>183.0</td>\n",
              "      <td>69.0</td>\n",
              "    </tr>\n",
              "    <tr>\n",
              "      <th>3</th>\n",
              "      <td>Chevrolet Cavalier 4dr</td>\n",
              "      <td>False</td>\n",
              "      <td>False</td>\n",
              "      <td>False</td>\n",
              "      <td>False</td>\n",
              "      <td>False</td>\n",
              "      <td>False</td>\n",
              "      <td>False</td>\n",
              "      <td>14810</td>\n",
              "      <td>13884</td>\n",
              "      <td>2.2</td>\n",
              "      <td>4</td>\n",
              "      <td>140</td>\n",
              "      <td>26.0</td>\n",
              "      <td>37.0</td>\n",
              "      <td>2676.0</td>\n",
              "      <td>104.0</td>\n",
              "      <td>183.0</td>\n",
              "      <td>68.0</td>\n",
              "    </tr>\n",
              "    <tr>\n",
              "      <th>4</th>\n",
              "      <td>Chevrolet Cavalier LS 2dr</td>\n",
              "      <td>False</td>\n",
              "      <td>False</td>\n",
              "      <td>False</td>\n",
              "      <td>False</td>\n",
              "      <td>False</td>\n",
              "      <td>False</td>\n",
              "      <td>False</td>\n",
              "      <td>16385</td>\n",
              "      <td>15357</td>\n",
              "      <td>2.2</td>\n",
              "      <td>4</td>\n",
              "      <td>140</td>\n",
              "      <td>26.0</td>\n",
              "      <td>37.0</td>\n",
              "      <td>2617.0</td>\n",
              "      <td>104.0</td>\n",
              "      <td>183.0</td>\n",
              "      <td>69.0</td>\n",
              "    </tr>\n",
              "    <tr>\n",
              "      <th>...</th>\n",
              "      <td>...</td>\n",
              "      <td>...</td>\n",
              "      <td>...</td>\n",
              "      <td>...</td>\n",
              "      <td>...</td>\n",
              "      <td>...</td>\n",
              "      <td>...</td>\n",
              "      <td>...</td>\n",
              "      <td>...</td>\n",
              "      <td>...</td>\n",
              "      <td>...</td>\n",
              "      <td>...</td>\n",
              "      <td>...</td>\n",
              "      <td>...</td>\n",
              "      <td>...</td>\n",
              "      <td>...</td>\n",
              "      <td>...</td>\n",
              "      <td>...</td>\n",
              "      <td>...</td>\n",
              "    </tr>\n",
              "    <tr>\n",
              "      <th>423</th>\n",
              "      <td>Nissan Titan King Cab XE</td>\n",
              "      <td>False</td>\n",
              "      <td>False</td>\n",
              "      <td>False</td>\n",
              "      <td>False</td>\n",
              "      <td>True</td>\n",
              "      <td>True</td>\n",
              "      <td>False</td>\n",
              "      <td>26650</td>\n",
              "      <td>24926</td>\n",
              "      <td>5.6</td>\n",
              "      <td>8</td>\n",
              "      <td>305</td>\n",
              "      <td>14.0</td>\n",
              "      <td>18.0</td>\n",
              "      <td>5287.0</td>\n",
              "      <td>140.0</td>\n",
              "      <td>NaN</td>\n",
              "      <td>NaN</td>\n",
              "    </tr>\n",
              "    <tr>\n",
              "      <th>424</th>\n",
              "      <td>Subaru Baja</td>\n",
              "      <td>False</td>\n",
              "      <td>False</td>\n",
              "      <td>False</td>\n",
              "      <td>False</td>\n",
              "      <td>True</td>\n",
              "      <td>True</td>\n",
              "      <td>False</td>\n",
              "      <td>24520</td>\n",
              "      <td>22304</td>\n",
              "      <td>2.5</td>\n",
              "      <td>4</td>\n",
              "      <td>165</td>\n",
              "      <td>21.0</td>\n",
              "      <td>28.0</td>\n",
              "      <td>3485.0</td>\n",
              "      <td>104.0</td>\n",
              "      <td>NaN</td>\n",
              "      <td>NaN</td>\n",
              "    </tr>\n",
              "    <tr>\n",
              "      <th>425</th>\n",
              "      <td>Toyota Tacoma</td>\n",
              "      <td>False</td>\n",
              "      <td>False</td>\n",
              "      <td>False</td>\n",
              "      <td>False</td>\n",
              "      <td>True</td>\n",
              "      <td>False</td>\n",
              "      <td>True</td>\n",
              "      <td>12800</td>\n",
              "      <td>11879</td>\n",
              "      <td>2.4</td>\n",
              "      <td>4</td>\n",
              "      <td>142</td>\n",
              "      <td>22.0</td>\n",
              "      <td>27.0</td>\n",
              "      <td>2750.0</td>\n",
              "      <td>103.0</td>\n",
              "      <td>NaN</td>\n",
              "      <td>NaN</td>\n",
              "    </tr>\n",
              "    <tr>\n",
              "      <th>426</th>\n",
              "      <td>Toyota Tundra Regular Cab V6</td>\n",
              "      <td>False</td>\n",
              "      <td>False</td>\n",
              "      <td>False</td>\n",
              "      <td>False</td>\n",
              "      <td>True</td>\n",
              "      <td>False</td>\n",
              "      <td>True</td>\n",
              "      <td>16495</td>\n",
              "      <td>14978</td>\n",
              "      <td>3.4</td>\n",
              "      <td>6</td>\n",
              "      <td>190</td>\n",
              "      <td>16.0</td>\n",
              "      <td>20.0</td>\n",
              "      <td>3925.0</td>\n",
              "      <td>128.0</td>\n",
              "      <td>NaN</td>\n",
              "      <td>NaN</td>\n",
              "    </tr>\n",
              "    <tr>\n",
              "      <th>427</th>\n",
              "      <td>Toyota Tundra Access Cab V6 SR5</td>\n",
              "      <td>False</td>\n",
              "      <td>False</td>\n",
              "      <td>False</td>\n",
              "      <td>False</td>\n",
              "      <td>True</td>\n",
              "      <td>True</td>\n",
              "      <td>False</td>\n",
              "      <td>25935</td>\n",
              "      <td>23520</td>\n",
              "      <td>3.4</td>\n",
              "      <td>6</td>\n",
              "      <td>190</td>\n",
              "      <td>14.0</td>\n",
              "      <td>17.0</td>\n",
              "      <td>4435.0</td>\n",
              "      <td>128.0</td>\n",
              "      <td>NaN</td>\n",
              "      <td>NaN</td>\n",
              "    </tr>\n",
              "  </tbody>\n",
              "</table>\n",
              "<p>428 rows × 19 columns</p>\n",
              "</div>\n",
              "      <button class=\"colab-df-convert\" onclick=\"convertToInteractive('df-b883ac1c-ffdf-49e8-8473-15e25d47f4be')\"\n",
              "              title=\"Convert this dataframe to an interactive table.\"\n",
              "              style=\"display:none;\">\n",
              "        \n",
              "  <svg xmlns=\"http://www.w3.org/2000/svg\" height=\"24px\"viewBox=\"0 0 24 24\"\n",
              "       width=\"24px\">\n",
              "    <path d=\"M0 0h24v24H0V0z\" fill=\"none\"/>\n",
              "    <path d=\"M18.56 5.44l.94 2.06.94-2.06 2.06-.94-2.06-.94-.94-2.06-.94 2.06-2.06.94zm-11 1L8.5 8.5l.94-2.06 2.06-.94-2.06-.94L8.5 2.5l-.94 2.06-2.06.94zm10 10l.94 2.06.94-2.06 2.06-.94-2.06-.94-.94-2.06-.94 2.06-2.06.94z\"/><path d=\"M17.41 7.96l-1.37-1.37c-.4-.4-.92-.59-1.43-.59-.52 0-1.04.2-1.43.59L10.3 9.45l-7.72 7.72c-.78.78-.78 2.05 0 2.83L4 21.41c.39.39.9.59 1.41.59.51 0 1.02-.2 1.41-.59l7.78-7.78 2.81-2.81c.8-.78.8-2.07 0-2.86zM5.41 20L4 18.59l7.72-7.72 1.47 1.35L5.41 20z\"/>\n",
              "  </svg>\n",
              "      </button>\n",
              "      \n",
              "  <style>\n",
              "    .colab-df-container {\n",
              "      display:flex;\n",
              "      flex-wrap:wrap;\n",
              "      gap: 12px;\n",
              "    }\n",
              "\n",
              "    .colab-df-convert {\n",
              "      background-color: #E8F0FE;\n",
              "      border: none;\n",
              "      border-radius: 50%;\n",
              "      cursor: pointer;\n",
              "      display: none;\n",
              "      fill: #1967D2;\n",
              "      height: 32px;\n",
              "      padding: 0 0 0 0;\n",
              "      width: 32px;\n",
              "    }\n",
              "\n",
              "    .colab-df-convert:hover {\n",
              "      background-color: #E2EBFA;\n",
              "      box-shadow: 0px 1px 2px rgba(60, 64, 67, 0.3), 0px 1px 3px 1px rgba(60, 64, 67, 0.15);\n",
              "      fill: #174EA6;\n",
              "    }\n",
              "\n",
              "    [theme=dark] .colab-df-convert {\n",
              "      background-color: #3B4455;\n",
              "      fill: #D2E3FC;\n",
              "    }\n",
              "\n",
              "    [theme=dark] .colab-df-convert:hover {\n",
              "      background-color: #434B5C;\n",
              "      box-shadow: 0px 1px 3px 1px rgba(0, 0, 0, 0.15);\n",
              "      filter: drop-shadow(0px 1px 2px rgba(0, 0, 0, 0.3));\n",
              "      fill: #FFFFFF;\n",
              "    }\n",
              "  </style>\n",
              "\n",
              "      <script>\n",
              "        const buttonEl =\n",
              "          document.querySelector('#df-b883ac1c-ffdf-49e8-8473-15e25d47f4be button.colab-df-convert');\n",
              "        buttonEl.style.display =\n",
              "          google.colab.kernel.accessAllowed ? 'block' : 'none';\n",
              "\n",
              "        async function convertToInteractive(key) {\n",
              "          const element = document.querySelector('#df-b883ac1c-ffdf-49e8-8473-15e25d47f4be');\n",
              "          const dataTable =\n",
              "            await google.colab.kernel.invokeFunction('convertToInteractive',\n",
              "                                                     [key], {});\n",
              "          if (!dataTable) return;\n",
              "\n",
              "          const docLinkHtml = 'Like what you see? Visit the ' +\n",
              "            '<a target=\"_blank\" href=https://colab.research.google.com/notebooks/data_table.ipynb>data table notebook</a>'\n",
              "            + ' to learn more about interactive tables.';\n",
              "          element.innerHTML = '';\n",
              "          dataTable['output_type'] = 'display_data';\n",
              "          await google.colab.output.renderOutput(dataTable, element);\n",
              "          const docLink = document.createElement('div');\n",
              "          docLink.innerHTML = docLinkHtml;\n",
              "          element.appendChild(docLink);\n",
              "        }\n",
              "      </script>\n",
              "    </div>\n",
              "  </div>\n",
              "  "
            ]
          },
          "metadata": {},
          "execution_count": 35
        }
      ]
    },
    {
      "cell_type": "code",
      "source": [
        "print(sport_cars.columns.tolist())"
      ],
      "metadata": {
        "colab": {
          "base_uri": "https://localhost:8080/"
        },
        "id": "BvWHsydvdeGL",
        "outputId": "2c5bad3c-ca3d-41fa-95ae-9c5a30aebbba"
      },
      "execution_count": 36,
      "outputs": [
        {
          "output_type": "stream",
          "name": "stdout",
          "text": [
            "['name', 'sports_car', 'suv', 'wagon', 'minivan', 'pickup', 'all_wheel', 'rear_wheel', 'msrp', 'dealer_cost', 'eng_size', 'ncyl', 'horsepwr', 'city_mpg', 'hwy_mpg', 'weight', 'wheel_base', 'length', 'width']\n"
          ]
        }
      ]
    },
    {
      "cell_type": "code",
      "source": [
        "sports_car = sport_cars['sports_car'].tolist()\n",
        "name = sport_cars['name'].tolist()\n",
        "horsepwr = sport_cars['horsepwr'].tolist()\n",
        "city_mpg = sport_cars['city_mpg'].tolist()"
      ],
      "metadata": {
        "id": "AmEdwhaSj0CU"
      },
      "execution_count": 37,
      "outputs": []
    },
    {
      "cell_type": "markdown",
      "source": [
        "## Неправильные графики"
      ],
      "metadata": {
        "id": "-oYM619l05i8"
      }
    },
    {
      "cell_type": "code",
      "source": [
        "# Тут выбираются именно те модели, которые показывают превосходство одного бренда автомобилей над другим\n",
        "\n",
        "hwy_mpg = sport_cars['hwy_mpg'].tolist()\n",
        "hwy_mpg_2 = [hwy_mpg[427], hwy_mpg[425], hwy_mpg[1], hwy_mpg[2],]\n",
        "names_2 = [name[427], name[425], name[1], name[2]]\n",
        "fig, ax = plt.subplots(figsize=(25,5))\n",
        "barlist = plt.bar(names_2, hwy_mpg_2)\n",
        "\n",
        "barlist[0].set_color('r')\n",
        "barlist[1].set_color('r')\n",
        "barlist[2].set_color('g')\n",
        "barlist[3].set_color('g')\n",
        "\n",
        "plt.title(\"Расход топлива, меньше-лучше\")\n",
        "plt.xlabel(\"Рейтинг моделей по количеству миль на галлон топлива\")\n",
        "plt.ylabel(\"Количество миль на галлон топлива\")"
      ],
      "metadata": {
        "colab": {
          "base_uri": "https://localhost:8080/",
          "height": 360
        },
        "id": "qbHvkVbzoMIT",
        "outputId": "78cf13a3-7df3-4419-f7bb-a40c7a814bad"
      },
      "execution_count": 38,
      "outputs": [
        {
          "output_type": "execute_result",
          "data": {
            "text/plain": [
              "Text(0, 0.5, 'Количество миль на галлон топлива')"
            ]
          },
          "metadata": {},
          "execution_count": 38
        },
        {
          "output_type": "display_data",
          "data": {
            "text/plain": [
              "<Figure size 1800x360 with 1 Axes>"
            ],
            "image/png": "[encoded data removed]"
          },
          "metadata": {
            "needs_background": "light"
          }
        }
      ]
    },
    {
      "cell_type": "code",
      "source": [
        "# Значительная разница в колесной базе на графике кажется незначительной\n",
        "wheel_base = sport_cars['wheel_base'].tolist()\n",
        "wheel_base_2 = [wheel_base[1], wheel_base[2], wheel_base[423], wheel_base[426]]\n",
        "\n",
        "name_3 = [name[1], name[2], name[423], name[426]]\n",
        "\n",
        "fig, ax = plt.subplots(figsize=(25,5))\n",
        "barlist = plt.bar(names_2, wheel_base_2)\n",
        "\n",
        "barlist[0].set_color('r')\n",
        "barlist[1].set_color('r')\n",
        "\n",
        "\n",
        "barlist[2].set_color('r')\n",
        "barlist[3].set_color('r')\n",
        "\n",
        "plt.title(\"Разница в колесной базе (больше - лучше)\")\n",
        "plt.xlabel(\"Модель\")\n",
        "plt.ylabel(\"Колёсная база\")"
      ],
      "metadata": {
        "colab": {
          "base_uri": "https://localhost:8080/",
          "height": 359
        },
        "id": "hhxWZV2ltEnL",
        "outputId": "4ce670e2-56d9-430d-daa7-fd9c7368cb58"
      },
      "execution_count": 39,
      "outputs": [
        {
          "output_type": "execute_result",
          "data": {
            "text/plain": [
              "Text(0, 0.5, 'Колёсная база')"
            ]
          },
          "metadata": {},
          "execution_count": 39
        },
        {
          "output_type": "display_data",
          "data": {
            "text/plain": [
              "<Figure size 1800x360 with 1 Axes>"
            ],
            "image/png": "[encoded data removed]"
          },
          "metadata": {
            "needs_background": "light"
          }
        }
      ]
    },
    {
      "cell_type": "code",
      "source": [
        "# Несуществующая зависимость между показателями\n",
        "dealer_cost = sport_cars['dealer_cost'].tolist()\n",
        "width = sport_cars['width'].tolist()\n",
        "\n",
        "dealer_cost_2 = [dealer_cost[1], dealer_cost[3], dealer_cost[4]]\n",
        "width_2 = [width[1], width[3], width[4]]\n",
        "\n",
        "\n",
        "plt.plot(width_2, dealer_cost_2)\n",
        "plt.xlabel(\"Ширина корпуса (дюймы)\")\n",
        "plt.ylabel(\"Цена автомобиля (в долларах)\")\n",
        "plt.show()\n",
        "\n",
        "# Рост стоимости автомобиля не может так сильно зависеть от незначительно повышения ширины кузова"
      ],
      "metadata": {
        "colab": {
          "base_uri": "https://localhost:8080/",
          "height": 281
        },
        "id": "Scexr1FpyUhA",
        "outputId": "2967656d-118b-4c0a-f700-d2e2b26b61a3"
      },
      "execution_count": 40,
      "outputs": [
        {
          "output_type": "display_data",
          "data": {
            "text/plain": [
              "<Figure size 432x288 with 1 Axes>"
            ],
            "image/png": "[encoded data removed]"
          },
          "metadata": {
            "needs_background": "light"
          }
        }
      ]
    },
    {
      "cell_type": "code",
      "source": [
        "\n",
        "# Чтобы показать превосходство pickup-ов над не-пикапами подбираются конкретные модели\n",
        "# Исходя из графика можно сделать вывод, что пикапы(оранжевая линия) хуже обычных (синяя линия)\n",
        "x_1 = [city_mpg[3], city_mpg[2], city_mpg[8]]\n",
        "y_1 = [horsepwr[3], horsepwr[2], horsepwr[8]]\n",
        "\n",
        "x_2 = [city_mpg[427], city_mpg[424]]\n",
        "y_2 = [horsepwr[426], horsepwr[424]]\n",
        "\n",
        "plt.plot(x_1, y_1)\n",
        "plt.plot(x_2, y_2)\n",
        "plt.xlabel(\"раход в городе (меньше лучше)\")\n",
        "plt.ylabel(\"лошадиные силы(больше лучше)\")\n",
        "plt.show()\n",
        "\n"
      ],
      "metadata": {
        "colab": {
          "base_uri": "https://localhost:8080/",
          "height": 279
        },
        "id": "s0HSyyRl1NDx",
        "outputId": "7bc16383-aab4-4e34-e1fa-86a1e8d6d7f8"
      },
      "execution_count": 41,
      "outputs": [
        {
          "output_type": "display_data",
          "data": {
            "text/plain": [
              "<Figure size 432x288 with 1 Axes>"
            ],
            "image/png": "[encoded data removed]"
          },
          "metadata": {
            "needs_background": "light"
          }
        }
      ]
    },
    {
      "cell_type": "markdown",
      "source": [
        "# Правильные графики"
      ],
      "metadata": {
        "id": "2PwyQuc51DjM"
      }
    },
    {
      "cell_type": "code",
      "source": [
        "# Правильная разница в колесной базе\n",
        "wheel_base = sport_cars['wheel_base'].tolist()\n",
        "wheel_base_2 = [wheel_base[1], wheel_base[2], wheel_base[423], wheel_base[426]]\n",
        "\n",
        "name_3 = [name[1], name[2], name[423], name[426]]\n",
        "\n",
        "fig, ax = plt.subplots(figsize=(25,5))\n",
        "barlist = plt.bar(names_2, wheel_base_2)\n",
        "\n",
        "barlist[0].set_color('g')\n",
        "barlist[1].set_color('g')\n",
        "barlist[2].set_color('g')\n",
        "barlist[3].set_color('g')\n",
        "\n",
        "plt.title(\"Разница в колесной базе (больше - лучше)\")\n",
        "plt.xlabel(\"Модель\")\n",
        "plt.ylabel(\"Колёсная база\")\n",
        "plt.ylim(60,150)"
      ],
      "metadata": {
        "colab": {
          "base_uri": "https://localhost:8080/",
          "height": 359
        },
        "id": "6QND3bQ39m_h",
        "outputId": "e0466585-e278-4823-fc6b-9a531601d86a"
      },
      "execution_count": 42,
      "outputs": [
        {
          "output_type": "execute_result",
          "data": {
            "text/plain": [
              "(60.0, 150.0)"
            ]
          },
          "metadata": {},
          "execution_count": 42
        },
        {
          "output_type": "display_data",
          "data": {
            "text/plain": [
              "<Figure size 1800x360 with 1 Axes>"
            ],
            "image/png": "[encoded data removed]"
          },
          "metadata": {
            "needs_background": "light"
          }
        }
      ]
    },
    {
      "cell_type": "code",
      "source": [
        "# Зависимость объёма двигателя от количества циллиндров\n",
        "eng_size_7 = sport_cars['eng_size'].tolist()\n",
        "ncyl = sport_cars['ncyl'].tolist()\n",
        "ncyl_2 = []\n",
        "\n",
        "for i in ncyl:\n",
        "  if i <= 0:\n",
        "    i = 1\n",
        "  ncyl_2.append(i)\n",
        "\n",
        "\n",
        "\n",
        "barlist = plt.bar(ncyl_2, eng_size_7)"
      ],
      "metadata": {
        "colab": {
          "base_uri": "https://localhost:8080/",
          "height": 265
        },
        "id": "ZeXnRIqq9ntv",
        "outputId": "ef6bebca-f7af-485a-9412-8e04f0979a7a"
      },
      "execution_count": 43,
      "outputs": [
        {
          "output_type": "display_data",
          "data": {
            "text/plain": [
              "<Figure size 432x288 with 1 Axes>"
            ],
            "image/png": "[encoded data removed]"
          },
          "metadata": {
            "needs_background": "light"
          }
        }
      ]
    },
    {
      "cell_type": "code",
      "source": [
        "# Зависимость стоимости от объёма двигателя\n",
        "eng_size = sport_cars['eng_size'].tolist()\n",
        "eng_size_2 = [eng_size[423], eng_size[3], eng_size[8]]\n",
        "dealer_cost_3 = [dealer_cost[423], dealer_cost[3], dealer_cost[8]]\n",
        "\n",
        "plt.plot(eng_size_2, dealer_cost_3)\n",
        "plt.xlabel(\"Объём двигателя\")\n",
        "plt.ylabel(\"Цена автомобиля (в долларах)\")\n",
        "plt.show()\n",
        "\n",
        "# Цена автомобиля увеличивается при увеличении объёма двигателя"
      ],
      "metadata": {
        "colab": {
          "base_uri": "https://localhost:8080/",
          "height": 279
        },
        "id": "W-mdX5Oo0tVq",
        "outputId": "afd06670-c4d4-470e-c713-cfb9efcda141"
      },
      "execution_count": 44,
      "outputs": [
        {
          "output_type": "display_data",
          "data": {
            "text/plain": [
              "<Figure size 432x288 with 1 Axes>"
            ],
            "image/png": "[encoded data removed]"
          },
          "metadata": {
            "needs_background": "light"
          }
        }
      ]
    },
    {
      "cell_type": "code",
      "source": [
        "# Зависимость цены автомобиля и расхода топлива\n",
        "hwy_mpg_5 = [hwy_mpg[423], hwy_mpg[5], hwy_mpg[8]]\n",
        "eng_size_2 = [eng_size[423], eng_size[5], eng_size[8]]\n",
        "\n",
        "plt.plot(eng_size_2, hwy_mpg_5)\n",
        "plt.xlabel(\"Объём двигателя\")\n",
        "plt.ylabel(\"Количество миль на галлон топлива\")\n",
        "plt.show()\n",
        "\n",
        "# По мере увеличения оюъёма двигателя, количество миль, которое он может проехать с одного галлона, снижается"
      ],
      "metadata": {
        "colab": {
          "base_uri": "https://localhost:8080/",
          "height": 279
        },
        "id": "KK91EI1gnnOu",
        "outputId": "757c5a60-bb63-4c29-a44f-812c9fd75c3a"
      },
      "execution_count": 45,
      "outputs": [
        {
          "output_type": "display_data",
          "data": {
            "text/plain": [
              "<Figure size 432x288 with 1 Axes>"
            ],
            "image/png": "[encoded data removed]"
          },
          "metadata": {
            "needs_background": "light"
          }
        }
      ]
    }
  ]
}